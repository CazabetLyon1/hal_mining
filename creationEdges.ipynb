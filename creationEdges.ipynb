{
 "cells": [
  {
   "cell_type": "code",
   "execution_count": 12,
   "metadata": {},
   "outputs": [],
   "source": [
    "from pymongo import MongoClient\n",
    "import pandas as pd\n",
    "import json\n",
    "import networkx as nx\n",
    "import sys\n",
    "from bson.objectid import ObjectId\n",
    "\n",
    "%matplotlib inline\n",
    "import matplotlib.pyplot as plt"
   ]
  },
  {
   "cell_type": "code",
   "execution_count": 3,
   "metadata": {},
   "outputs": [
    {
     "name": "stdout",
     "output_type": "stream",
     "text": [
      "Connection Successful\n"
     ]
    }
   ],
   "source": [
    "client = MongoClient(\"mongodb://localhost:27017/\");\n",
    "print(\"Connection Successful\")\n",
    "db = client.DATABASETEST\n",
    "col = db.articles"
   ]
  },
  {
   "cell_type": "code",
   "execution_count": 4,
   "metadata": {},
   "outputs": [],
   "source": [
    "G = nx.Graph()"
   ]
  },
  {
   "cell_type": "code",
   "execution_count": 7,
   "metadata": {},
   "outputs": [],
   "source": [
    "nbCollab = 0\n",
    "\n",
    "tabStructName = col[\"labstructName_s\"]\n",
    "for x in col.find({ \"labStructName_s\": { '$exists': 1 }, \"labStructAddress_s\": {'$exists': 1} }):\n",
    "    tabLab = x[\"labStructName_s\"]\n",
    "    tabAddress = x[\"labStructAddress_s\"]\n",
    "    tabId = x[\"_id\"]\n",
    "    taille = len(tabLab)\n",
    "    if taille > 1:\n",
    "        for i in range(0,taille-1):\n",
    "            for j in range(i+1,taille):\n",
    "                if tabLab[i] != tabLab[j] and not G.has_edge(tabLab[i],tabLab[j]) and not G.has_edge(tabLab[j],tabLab[i]):\n",
    "                    try:\n",
    "                        b1 = tabAddress[i].find('Lyon')\n",
    "                        b2 = tabAddress[i].find('Villeurbanne')\n",
    "                        b3 = tabAddress[j].find('Lyon')\n",
    "                        b4 = tabAddress[j].find('Villeurbanne')\n",
    "                        if (b1 != -1 or b2 != -1) and (b3 != -1 or b4 != -1):\n",
    "                            G.add_edge(tabLab[i], tabLab[j])\n",
    "                    except IndexError:\n",
    "                        col.delete_one({'_id': ObjectId(tabId)})\n",
    "                        "
   ]
  },
  {
   "cell_type": "code",
   "execution_count": 8,
   "metadata": {},
   "outputs": [
    {
     "data": {
      "text/plain": [
       "107"
      ]
     },
     "execution_count": 8,
     "metadata": {},
     "output_type": "execute_result"
    }
   ],
   "source": [
    "nx.number_of_edges(G)"
   ]
  },
  {
   "cell_type": "code",
   "execution_count": 9,
   "metadata": {},
   "outputs": [
    {
     "data": {
      "text/plain": [
       "EdgeView([(\"Laboratoire d'économie des transports\", 'Laboratoire de Physique de la Matière Condensée et Nanostructures'), (\"Laboratoire d'économie des transports\", \"Laboratoire de Physique de l'ENS Lyon\"), ('Laboratoire de Physique de la Matière Condensée et Nanostructures', \"Laboratoire de Physique de l'ENS Lyon\"), (\"Laboratoire de Physique de l'ENS Lyon\", 'Laboratoire de Géologie de Lyon - Terre, Planètes, Environnement [Lyon]'), (\"Laboratoire de Physique de l'ENS Lyon\", \"Laboratoire d'InfoRmatique en Image et Systèmes d'information\"), (\"Laboratoire de Physique de l'ENS Lyon\", 'Parcours santé systémique'), ('Laboratoire de Productique et Informatique des systèmes manufacturiers', \"Laboratoire d'Informatique pour l'Entreprise et les Systèmes de Production\"), ('Laboratoire de Productique et Informatique des systèmes manufacturiers', 'Institut de Physique Nucléaire de Lyon'), (\"Laboratoire d'Informatique pour l'Entreprise et les Systèmes de Production\", \"Laboratoire d'InfoRmatique en Image et Systèmes d'information\"), (\"Laboratoire d'InfoRmatique en Image et Systèmes d'information\", 'Institut de Physique Nucléaire de Lyon'), (\"Laboratoire d'InfoRmatique en Image et Systèmes d'information\", 'Littérature, idéologies, représentations, XVIIIe-XIXe siècles'), (\"Laboratoire d'InfoRmatique en Image et Systèmes d'information\", 'CITI Centre of Innovation in Telecommunications and Integration of services'), (\"Laboratoire d'InfoRmatique en Image et Systèmes d'information\", \"Systèmes d'Information Communicants, Management et Organisation\"), (\"Laboratoire d'InfoRmatique en Image et Systèmes d'information\", 'Centre de Recherche Magellan'), (\"Laboratoire d'InfoRmatique en Image et Systèmes d'information\", 'Département Informatique'), (\"Laboratoire d'InfoRmatique en Image et Systèmes d'information\", \"Laboratoire d'Ecologie des Hydrosystèmes Naturels et Anthropisés\"), (\"Laboratoire d'InfoRmatique en Image et Systèmes d'information\", 'Régulations métaboliques, nutrition et diabètes'), (\"Laboratoire d'InfoRmatique en Image et Systèmes d'information\", 'Mécanismes moléculaires du diabète'), (\"Laboratoire d'InfoRmatique en Image et Systèmes d'information\", 'Institut Rhône-Alpin des systèmes complexes'), ('Institut de Physique Nucléaire de Lyon', 'Controle Non Destructif par Rayonnements Ionisants'), ('Institut de Physique Nucléaire de Lyon', 'Ciblage thérapeutique en Oncologie'), ('Institut de Physique Nucléaire de Lyon', 'Institut des Nanotechnologies de Lyon'), ('Institut de Physique Nucléaire de Lyon', \"Centre de Recherche en Acquisition et Traitement de l'Image pour la Santé\"), ('Institut de Physique Nucléaire de Lyon', 'Transfer and molecular Oncology Unit'), ('Institut de Physique Nucléaire de Lyon', 'Département Informatique'), ('Equipe de Recherche en management stratégique', 'Centre de Recherche Magellan'), ('Centre de Recherche Magellan', 'ESDES - École de management de Lyon'), ('Centre de Recherche Magellan', \"Systèmes d'Information Communicants, Management et Organisation\"), ('Centre de Recherche Magellan', 'COACTIS'), ('Centre de Recherche Magellan', 'Equipe de Recherche en Ingénierie des Connaissances'), ('Ingénierie des Matériaux Polymères - Laboratoire des Matériaux Macromoléculaires', 'Ingénierie des Matériaux Polymères - Laboratoire des Matériaux Polymères et des Biomatériaux'), ('Ingénierie des Matériaux Polymères - Laboratoire des Matériaux Macromoléculaires', 'Ingénierie des Matériaux Polymères - Site INSA Lyon'), ('Histoire, Archéologie et littératures des Mondes chrétiens et musulmans médiévaux', \"Centre lyonnais d'Histoire du droit et de la pensée politique\"), ('Histoire, Archéologie et littératures des Mondes chrétiens et musulmans médiévaux', 'Histoire et Sources des Mondes antiques'), ('Histoire, Archéologie et littératures des Mondes chrétiens et musulmans médiévaux', 'Centre Gabriel Naudé'), ('CITI Centre of Innovation in Telecommunications and Integration of services', \"Centre de Recherche en Acquisition et Traitement de l'Image pour la Santé\"), ('Ampère', \"Service de Gynécologie et d'Obstétrique\"), ('Ampère', \"Laboratoire d'Automatique Industrielle\"), ('Ampère', 'Department of Electrical Engineering'), ('Ciblage thérapeutique en Oncologie', 'Laboratoire de Physico-Chimie des Matériaux Luminescents'), ('Ciblage thérapeutique en Oncologie', 'Transfer and molecular Oncology Unit'), ('Ciblage thérapeutique en Oncologie', 'Institut Lumière Matière [Villeurbanne]'), (\"Laboratoire de Génie Civil et d'Ingénierie Environnementale\", 'Milieux aquatiques, écologie et pollutions'), (\"Laboratoire de Génie Civil et d'Ingénierie Environnementale\", 'aucun'), (\"Laboratoire de Génie Civil et d'Ingénierie Environnementale\", 'Qualité des eaux et prévention des pollutions'), ('Milieux aquatiques, écologie et pollutions', 'Institut des Sciences Analytiques'), ('Milieux aquatiques, écologie et pollutions', 'Hydrologie-Hydraulique'), ('Milieux aquatiques, écologie et pollutions', \"Laboratoire d'Ecologie des Hydrosystèmes Naturels et Anthropisés\"), ('Laboratoire Vibrations Acoustique', 'CETIAT'), ('Laboratoire Vibrations Acoustique', 'Physiopathologie, diagnostic et traitements des maladies osseuses |  Pathophysiology, Diagnosis & Treatments of Bone Diseases'), ('Acoucité', 'Grand Lyon'), ('Fibercryst', 'Laboratoire de Physico-Chimie des Matériaux Luminescents'), ('Hydrologie-Hydraulique', 'DREAL'), ('Hydrologie-Hydraulique', 'Qualité des eaux et prévention des pollutions'), ('Hydrologie-Hydraulique', 'Institut des Sciences Analytiques'), ('Hydrologie-Hydraulique', \"Laboratoire d'Ecologie des Hydrosystèmes Naturels et Anthropisés\"), ('Institut des Nanotechnologies de Lyon', \"Institut de recherches sur la catalyse et l'environnement de Lyon\"), (\"Centre de Recherche en Acquisition et Traitement de l'Image pour la Santé\", \"Centre de Calcul de l'IN2P3\"), (\"Centre de Recherche en Acquisition et Traitement de l'Image pour la Santé\", 'Laboratoire de Chimie - UMR5182'), (\"Centre de Recherche en Acquisition et Traitement de l'Image pour la Santé\", 'Institut de Génomique Fonctionnelle de Lyon'), (\"Centre de Recherche en Acquisition et Traitement de l'Image pour la Santé\", \"Departement d'imagerie Digestive\"), (\"Centre de Recherche en Acquisition et Traitement de l'Image pour la Santé\", 'Physiopathologie, diagnostic et traitements des maladies osseuses |  Pathophysiology, Diagnosis & Treatments of Bone Diseases'), (\"Centre de Recherche en Acquisition et Traitement de l'Image pour la Santé\", 'Hopital CardioThoracique et Vasculaire'), (\"Centre de Recherche en Acquisition et Traitement de l'Image pour la Santé\", 'Service de Radiologie [Hôpital de la Croix-Rousse - HCL]'), (\"Centre de Recherche en Acquisition et Traitement de l'Image pour la Santé\", 'Centre de Recherche en Cancérologie de Lyon'), (\"Centre de Recherche en Acquisition et Traitement de l'Image pour la Santé\", \"Centre d'Exploration et de Recherche Médicales par Émission de Positons\"), (\"Centre de Recherche en Acquisition et Traitement de l'Image pour la Santé\", 'Service de Radiologie'), (\"Centre de Recherche en Acquisition et Traitement de l'Image pour la Santé\", 'Cardiovasculaire, métabolisme, diabétologie et nutrition'), (\"Centre de Recherche en Acquisition et Traitement de l'Image pour la Santé\", 'Cerebrovascular Unit [Lyon]'), (\"Centre de Recherche en Acquisition et Traitement de l'Image pour la Santé\", 'Institut Lumière Matière [Villeurbanne]'), (\"Centre de Recherche en Acquisition et Traitement de l'Image pour la Santé\", 'Metislab'), (\"Centre de Recherche en Acquisition et Traitement de l'Image pour la Santé\", \"Centre de Recherche et d'Application en Traitement de l'Image et du Signal\"), ('COACTIS', 'Laboratoire de Sciences Actuarielle et Financière'), ('COACTIS', 'Université de Saint-Etienne'), (\"École nationale supérieure des sciences de l'information et des bibliothèques\", 'Centre Gabriel Naudé'), (\"École nationale supérieure des sciences de l'information et des bibliothèques\", \"Equipe de recherche de Lyon en sciences de l'information et de la communication\"), ('Centre Gabriel Naudé', 'Institut d’Histoire des Représentations et des Idées dans les Modernités'), ('Centre Gabriel Naudé', \"Institut d'Histoire de la Pensée Classique\"), ('Institut des Sciences Analytiques', 'Laboratoire de Chimie - UMR5182'), ('Institut des Sciences Analytiques', \"Laboratoire d'Ecologie des Hydrosystèmes Naturels et Anthropisés\"), ('Institut des Sciences Analytiques', 'Déchets Eaux Environnement Pollutions'), ('Radiopharmaceutical and Neurochemical Biomarkers Team (BioRaN)', 'Fondation neurodis'), ('Radiopharmaceutical and Neurochemical Biomarkers Team (BioRaN)', \"Centre d'Exploration et de Recherche Médicales par Émission de Positons\"), ('Fondation neurodis', \"Centre d'Exploration et de Recherche Médicales par Émission de Positons\"), (\"Centre d'Exploration et de Recherche Médicales par Émission de Positons\", 'Service de Radiologie'), ('Laboratoire de Chimie - UMR5182', 'Institut de Génomique Fonctionnelle de Lyon'), ('Laboratoire de Chimie - UMR5182', \"Institut de recherches sur la catalyse et l'environnement de Lyon\"), ('Histoire et Sources des Mondes antiques', \"Centre d'Etudes et de Recherches sur l'Occident Romain\"), ('Service de Radiologie [Hôpital de la Croix-Rousse - HCL]', 'Centre de Recherche en Cancérologie de Lyon'), ('Service de Radiologie [Hôpital de la Croix-Rousse - HCL]', 'Cerebrovascular Unit [Lyon]'), ('Centre de Recherche en Cancérologie de Lyon', 'Sciences et Société ; Historicité, Éducation et Pratiques'), ('Sciences et Société ; Historicité, Éducation et Pratiques', 'Institut National de Recherche Pédagogique'), ('Sciences et Société ; Historicité, Éducation et Pratiques', 'Bibliothèque Marie Curie, INSA de Lyon'), ('Sciences et Société ; Historicité, Éducation et Pratiques', 'Dipartimento di Matematica'), ('Fonctions Normales et Pathologiques de la Barrière Cutanée [Hôpital Edouard Herriot - HCL]', 'service pharmaceutique Hôpital Edouard Herriot, Hospices Civils de Lyon'), ('service pharmaceutique Hôpital Edouard Herriot, Hospices Civils de Lyon', 'Laboratoire de pharmacie galénique industrielle EA 4169'), ('Institut d’Histoire des Représentations et des Idées dans les Modernités', \"Institut d'Histoire de la Pensée Classique\"), ('Institut d’Histoire des Représentations et des Idées dans les Modernités', 'Passages XX-XXI'), ('Equipe de Recherche en Ingénierie des Connaissances', 'Entrepôts, Représentation et Ingénierie des Connaissances'), (\"Institut de recherches sur la catalyse et l'environnement de Lyon\", 'Ingénierie des Matériaux Polymères - Site Université Claude Bernard Lyon 1'), (\"Institut de recherches sur la catalyse et l'environnement de Lyon\", \"Laboratoire d'automatique et de génie des procédés\"), (\"Institut de recherches sur la catalyse et l'environnement de Lyon\", \"Laboratoire d'automatique, de génie des procédés et de génie pharmaceutique\"), ('Déchets Eaux Environnement Pollutions', 'GRAIE'), ('LAboratoire de Recherche Historique Rhône-Alpes - UMR5190', 'Passages XX-XXI'), ('Application des ultrasons à la thérapie', 'ANSYS France'), (\"Laboratoire d'automatique et de génie des procédés\", \"Laboratoire d'automatique, de génie des procédés et de génie pharmaceutique\"), (\"Equipe de recherche de Lyon en sciences de l'information et de la communication\", 'Décision et Information pour les Systèmes de Production')])"
      ]
     },
     "execution_count": 9,
     "metadata": {},
     "output_type": "execute_result"
    }
   ],
   "source": [
    "G.edges"
   ]
  },
  {
   "cell_type": "code",
   "execution_count": null,
   "metadata": {},
   "outputs": [],
   "source": []
  },
  {
   "cell_type": "code",
   "execution_count": 66,
   "metadata": {},
   "outputs": [],
   "source": [
    "G.clear()"
   ]
  },
  {
   "cell_type": "code",
   "execution_count": null,
   "metadata": {},
   "outputs": [],
   "source": []
  },
  {
   "cell_type": "code",
   "execution_count": 31,
   "metadata": {},
   "outputs": [
    {
     "data": {
      "text/plain": [
       "<matplotlib.collections.PathCollection at 0x7f4591357c88>"
      ]
     },
     "execution_count": 31,
     "metadata": {},
     "output_type": "execute_result"
    },
    {
     "data": {
      "image/png": "[encoded data removed]",
      "text/plain": [
       "<Figure size 576x288 with 1 Axes>"
      ]
     },
     "metadata": {
      "needs_background": "light"
     },
     "output_type": "display_data"
    }
   ],
   "source": [
    "f, ax = plt.subplots(figsize=(8,4))\n",
    "ax=ax\n",
    "nx.draw_networkx_edges(G, with_labels=False,pos=nx.spring_layout(G)) #,arrows=True, with_labels=False)\n",
    "nx.draw_networkx_nodes(G, with_labels=False,pos=nx.spring_layout(G))\n",
    "#limits=plt.axis('off')"
   ]
  },
  {
   "cell_type": "code",
   "execution_count": null,
   "metadata": {},
   "outputs": [],
   "source": []
  }
 ],
 "metadata": {
  "kernelspec": {
   "display_name": "Python 3",
   "language": "python",
   "name": "python3"
  },
  "language_info": {
   "codemirror_mode": {
    "name": "ipython",
    "version": 3
   },
   "file_extension": ".py",
   "mimetype": "text/x-python",
   "name": "python",
   "nbconvert_exporter": "python",
   "pygments_lexer": "ipython3",
   "version": "3.7.1"
  }
 },
 "nbformat": 4,
 "nbformat_minor": 2
}
